{
  "nbformat": 4,
  "nbformat_minor": 0,
  "metadata": {
    "colab": {
      "name": "Siamese Network for Facial Recognition.ipynb",
      "provenance": [],
      "collapsed_sections": []
    },
    "kernelspec": {
      "name": "python3",
      "display_name": "Python 3"
    },
    "accelerator": "GPU"
  },
  "cells": [
    {
      "cell_type": "markdown",
      "metadata": {
        "id": "3-hcwEqSz_gr",
        "colab_type": "text"
      },
      "source": [
        "# Siamese Network for Facial Recognition"
      ]
    },
    {
      "cell_type": "markdown",
      "metadata": {
        "id": "g3kj8W5ODzkJ",
        "colab_type": "text"
      },
      "source": [
        "Facial recognition is different from other image classification problems owing to the fact that we can’t always have a lot of training images for each person in the database. The recognition will have to happen based on a very few (usually one) images of the person added to the database. Such a problem is known as one-shot learning.\n",
        "\n",
        "One-shot learning is usually facilitated by training a simaese network using triplet loss. Such a network creates an embedding for the image of a face inputted into it wherein the images of the same person’s face results in closer embeddings when compared to images of different faces.\n",
        "\n",
        "The training is done using triplets of images known as anchor, positive and negative images. The anchor and positive are images of the same person while the negative is an image of a different person. More details are explained in the methodology section.\n"
      ]
    },
    {
      "cell_type": "markdown",
      "metadata": {
        "id": "iQMRoKTRD4Xl",
        "colab_type": "text"
      },
      "source": [
        "First let's import the relevant packages."
      ]
    },
    {
      "cell_type": "code",
      "metadata": {
        "id": "WbKUycrPReNb",
        "colab_type": "code",
        "colab": {}
      },
      "source": [
        "import os\n",
        "import cv2\n",
        "from numpy import asarray\n",
        "import numpy as np\n",
        "import glob2\n",
        "from random import randint"
      ],
      "execution_count": 1,
      "outputs": []
    },
    {
      "cell_type": "code",
      "metadata": {
        "id": "Z8G8O1qkR2tg",
        "colab_type": "code",
        "colab": {
          "base_uri": "https://localhost:8080/",
          "height": 34
        },
        "outputId": "dc42f263-930c-4ec2-814c-a905ed5c31f0"
      },
      "source": [
        "import keras\n",
        "from keras.models import Sequential\n",
        "from keras.layers import Dense, Flatten, Lambda, Input, Concatenate, concatenate\n",
        "from keras.applications import VGG16\n",
        "from keras.applications.vgg16 import preprocess_input\n",
        "import tensorflow as tf\n",
        "import keras.backend as K\n",
        "import tensorflow_addons as tfa"
      ],
      "execution_count": 2,
      "outputs": [
        {
          "output_type": "stream",
          "text": [
            "Using TensorFlow backend.\n"
          ],
          "name": "stderr"
        }
      ]
    },
    {
      "cell_type": "markdown",
      "metadata": {
        "id": "C3pRl8vWD-NI",
        "colab_type": "text"
      },
      "source": [
        "We will use the haar cascades for extracting the face from the images.\n",
        "\n"
      ]
    },
    {
      "cell_type": "code",
      "metadata": {
        "id": "jspRLwnyR9ig",
        "colab_type": "code",
        "colab": {}
      },
      "source": [
        "face_cascade = cv2.CascadeClassifier('/content/drive/My Drive/ML Resources/Siamese Network/haarcascade_frontalface_default.xml')"
      ],
      "execution_count": 3,
      "outputs": []
    },
    {
      "cell_type": "markdown",
      "metadata": {
        "id": "JRWTiKmIEJML",
        "colab_type": "text"
      },
      "source": [
        "Now let's load the database of images from the zip file stored in Google Drive. The dataset contains 10 images each of 10 celebrities (a total of 100 images) from which the triplets would be sampled. "
      ]
    },
    {
      "cell_type": "code",
      "metadata": {
        "id": "stwrI3tqSHmX",
        "colab_type": "code",
        "colab": {
          "base_uri": "https://localhost:8080/",
          "height": 51
        },
        "outputId": "4af88049-d371-44e8-f4e1-c1b52ae18237"
      },
      "source": [
        "!unzip '/content/drive/My Drive/ML Resources/Siamese Network/FR Database.zip'"
      ],
      "execution_count": 4,
      "outputs": [
        {
          "output_type": "stream",
          "text": [
            "Archive:  /content/drive/My Drive/ML Resources/Siamese Network/FR Database.zip\n",
            "replace FR Database/Ben Affleck/Ben Affleck_1.jpg? [y]es, [n]o, [A]ll, [N]one, [r]ename: "
          ],
          "name": "stdout"
        }
      ]
    },
    {
      "cell_type": "markdown",
      "metadata": {
        "id": "EpttYpUJEfdL",
        "colab_type": "text"
      },
      "source": [
        "Now let's define a function to select triplets that are hard or semihard for the network. It also checks for duplicates while sampling."
      ]
    },
    {
      "cell_type": "code",
      "metadata": {
        "id": "lbtJF5W-Ak8c",
        "colab_type": "code",
        "colab": {}
      },
      "source": [
        "def create_samples(model_c, n_samples = 100, margin = 1):\n",
        "  ids = os.listdir('FR Database')\n",
        "\n",
        "  total = 0\n",
        "  sample_count = 0\n",
        "  dup_count = 0\n",
        "\n",
        "  uids = []\n",
        "\n",
        "  anchor_semihard_2 = []\n",
        "  positive_semihard_2 = []\n",
        "  negative_semihard_2 = []\n",
        "\n",
        "  last_log = 0\n",
        "\n",
        "  while sample_count < n_samples:\n",
        "      duplicate = True\n",
        "      while duplicate == True:  \n",
        "        pos_fol = randint(0,9)\n",
        "        neg_fol = pos_fol\n",
        "        while (neg_fol == pos_fol):\n",
        "            neg_fol = randint(0,9)\n",
        "        p_folder = ids[pos_fol]\n",
        "        n_folder = ids[neg_fol]\n",
        "        p_collection = glob2.glob('FR Database/' + p_folder + \"/*.jpg\")\n",
        "        n_collection = glob2.glob('FR Database/' + n_folder + \"/*.jpg\")\n",
        "        anc_file = randint(0,9)\n",
        "        pos_file = anc_file\n",
        "        while (anc_file == pos_file):\n",
        "            pos_file = randint(0,9)\n",
        "        neg_file = randint(0,9)\n",
        "        uid = str(pos_fol) + str(anc_file) + str(pos_file) + str(neg_fol) + str(neg_file)\n",
        "        if uid in uids:\n",
        "          dup_count += 1\n",
        "        else:\n",
        "          uids.append(uid)\n",
        "          duplicate = False\n",
        "\n",
        "      a_file = p_collection[anc_file]\n",
        "      p_file = p_collection[pos_file]\n",
        "      n_file = n_collection[neg_file]\n",
        "      imgs = []\n",
        "      for count, file in enumerate([a_file, p_file, n_file]):\n",
        "          img = cv2.imread(file)\n",
        "          gray = cv2.cvtColor(img, cv2.COLOR_BGR2GRAY)\n",
        "          face = face_cascade.detectMultiScale(gray, 1.1, 5)\n",
        "          (x, y, w, h) = face[0]\n",
        "          ROI = img[y:y+h, x:x+w]\n",
        "          ROI = cv2.resize(ROI, (224,224))\n",
        "          img = asarray(ROI)\n",
        "          imgs.append(img)\n",
        "      imgs = asarray(imgs)\n",
        "\n",
        "      \n",
        "      a_embed = preprocess_input(np.reshape(imgs[0], (1,224,224,3)))\n",
        "      p_embed = preprocess_input(np.reshape(imgs[1], (1,224,224,3)))\n",
        "      n_embed = preprocess_input(np.reshape(imgs[2], (1,224,224,3)))\n",
        "      y_pred = model_c.predict([a_embed, p_embed, n_embed])\n",
        "      length = 128\n",
        "      a_pred = y_pred[:, 0:length]\n",
        "      p_pred = y_pred[:, length : 2*length]\n",
        "      n_pred = y_pred[:, 2* length: ]\n",
        "\n",
        "      pos_dist = np.linalg.norm((a_pred - p_pred), axis = -1)\n",
        "      neg_dist = np.linalg.norm((a_pred - n_pred), axis = -1)\n",
        "\n",
        "      check = False\n",
        "\n",
        "      if (neg_dist < pos_dist + margin):\n",
        "        check = True\n",
        "            \n",
        "      if (check == True):\n",
        "        anchor_semihard_2.append(imgs[0])\n",
        "        positive_semihard_2.append(imgs[1])\n",
        "        negative_semihard_2.append(imgs[2])\n",
        "        sample_count +=1\n",
        "      \n",
        "      total +=1   \n",
        "\n",
        "      if (total%500 == 0) and (sample_count/total < 0.01):\n",
        "        print('Less than 1% of sampled triplets are hard or semihard. Stopping the sampling process!!')\n",
        "        break \n",
        "\n",
        "      if (sample_count%50 == 0) and (sample_count !=last_log):\n",
        "        print(f'Status - {sample_count} samples in {total} runs. {dup_count} duplicates until now.')\n",
        "        last_log = sample_count\n",
        "\n",
        "\n",
        "      \n",
        "  anchor_semihard_2 = asarray(anchor_semihard_2)\n",
        "  positive_semihard_2 = asarray(positive_semihard_2)\n",
        "  negative_semihard_2 = asarray(negative_semihard_2)\n",
        "\n",
        "  anchor_semihard = preprocess_input(anchor_semihard_2)\n",
        "  positive_semihard = preprocess_input(positive_semihard_2)\n",
        "  negative_semihard = preprocess_input(negative_semihard_2)\n",
        "\n",
        "  return anchor_semihard, positive_semihard, negative_semihard"
      ],
      "execution_count": 5,
      "outputs": []
    },
    {
      "cell_type": "markdown",
      "metadata": {
        "id": "TuHEsGnPE-3N",
        "colab_type": "text"
      },
      "source": [
        "Now let's define a function to create a base network using VGG16. This will be later used for creating the Siamese network."
      ]
    },
    {
      "cell_type": "code",
      "metadata": {
        "id": "NabN4EdLT-cz",
        "colab_type": "code",
        "colab": {}
      },
      "source": [
        "def base_network(norm = True):\n",
        "  base = Sequential()\n",
        "  base.add(VGG16(\n",
        "    include_top=False,\n",
        "    pooling='avg',\n",
        "    weights='imagenet',\n",
        "    ))\n",
        "  base.add(Dense(units=256,activation='relu'))\n",
        "  base.add(Dense(units=128,activation=None))\n",
        "  if norm == True:\n",
        "    base.add(Lambda(lambda x: tf.math.l2_normalize(x, axis = -1, epsilon=1e-12)))\n",
        "  base.layers[0].trainable = False\n",
        "  return base"
      ],
      "execution_count": 6,
      "outputs": []
    },
    {
      "cell_type": "code",
      "metadata": {
        "id": "MeYEURFzUKbt",
        "colab_type": "code",
        "colab": {
          "base_uri": "https://localhost:8080/",
          "height": 289
        },
        "outputId": "f8440823-79e2-4915-ba81-099bcde0a7b2"
      },
      "source": [
        "base = base_network()\n",
        "base.summary()"
      ],
      "execution_count": 7,
      "outputs": [
        {
          "output_type": "stream",
          "text": [
            "Model: \"sequential_1\"\n",
            "_________________________________________________________________\n",
            "Layer (type)                 Output Shape              Param #   \n",
            "=================================================================\n",
            "vgg16 (Model)                (None, 512)               14714688  \n",
            "_________________________________________________________________\n",
            "dense_1 (Dense)              (None, 256)               131328    \n",
            "_________________________________________________________________\n",
            "dense_2 (Dense)              (None, 128)               32896     \n",
            "_________________________________________________________________\n",
            "lambda_1 (Lambda)            (None, 128)               0         \n",
            "=================================================================\n",
            "Total params: 14,878,912\n",
            "Trainable params: 164,224\n",
            "Non-trainable params: 14,714,688\n",
            "_________________________________________________________________\n"
          ],
          "name": "stdout"
        }
      ]
    },
    {
      "cell_type": "markdown",
      "metadata": {
        "id": "TZhVpqyeFTjF",
        "colab_type": "text"
      },
      "source": [
        "Now let's define our custom loss function for triplet loss."
      ]
    },
    {
      "cell_type": "code",
      "metadata": {
        "id": "tH5ku3EDUXpg",
        "colab_type": "code",
        "colab": {}
      },
      "source": [
        "def triplet_loss(y_true, y_pred, margin = 1):  \n",
        "    length = 128\n",
        "  \n",
        "    anchor = y_pred[:, 0:length]\n",
        "    positive = y_pred[:, length : 2*length]\n",
        "    negative = y_pred[:, 2* length: ]\n",
        "\n",
        "\n",
        "    pos_dist = K.sqrt(K.sum(K.square(anchor - positive), -1))\n",
        "    neg_dist = K.sqrt(K.sum(K.square(anchor - negative), -1))\n",
        "\n",
        "    basic_loss = pos_dist - neg_dist + margin\n",
        "\n",
        "    loss = K.maximum(basic_loss, 0)\n",
        "\n",
        "    loss = K.sum(loss)\n",
        "\n",
        "    return loss"
      ],
      "execution_count": 8,
      "outputs": []
    },
    {
      "cell_type": "markdown",
      "metadata": {
        "id": "TB9ccmuXFZUA",
        "colab_type": "text"
      },
      "source": [
        "The follwing function creates the siamese network with the three inputs using the base network."
      ]
    },
    {
      "cell_type": "code",
      "metadata": {
        "id": "Q06OgWB9Ug9-",
        "colab_type": "code",
        "colab": {}
      },
      "source": [
        "def model(base, lr = 0.001):\n",
        "  input_1 = Input(shape=(224,224,3))\n",
        "  input_2 = Input(shape=(224,224,3))\n",
        "  input_3 = Input(shape=(224,224,3))\n",
        "\n",
        "  x1 = base(input_1)\n",
        "  x2 = base(input_2)\n",
        "  x3 = base(input_3)\n",
        "  \n",
        "  out = concatenate([x1, x2, x3], axis=-1)\n",
        "\n",
        "  model = keras.Model([input_1,input_2,input_3], out)\n",
        "\n",
        "  model.compile(keras.optimizers.Adam(lr), loss = triplet_loss)\n",
        "  \n",
        "  return model"
      ],
      "execution_count": 9,
      "outputs": []
    },
    {
      "cell_type": "markdown",
      "metadata": {
        "id": "EDioDHeBF1OU",
        "colab_type": "text"
      },
      "source": [
        "We will also use early stopping so that the learning process stops if there is early convergence. Note that we are using min_delta = 0 for 250 steps. So most probably, there won't be any callback."
      ]
    },
    {
      "cell_type": "code",
      "metadata": {
        "id": "W5SMDhGBU00c",
        "colab_type": "code",
        "colab": {}
      },
      "source": [
        "from keras.callbacks import EarlyStopping\n",
        "\n",
        "usualCallback = EarlyStopping(monitor='loss', min_delta=0, patience = 250)"
      ],
      "execution_count": 10,
      "outputs": []
    },
    {
      "cell_type": "markdown",
      "metadata": {
        "id": "UPF1_jVEGK-h",
        "colab_type": "text"
      },
      "source": [
        "Now let's combine all the earlier functions into a single function call so that the process becomes easier. "
      ]
    },
    {
      "cell_type": "code",
      "metadata": {
        "id": "W285crXKU6Jr",
        "colab_type": "code",
        "colab": {}
      },
      "source": [
        "def create_siamese_network(norm = False, lr = 0.001):\n",
        "  base = base_network(norm)\n",
        "  model_new = model(base, lr = lr)\n",
        "  return model_new"
      ],
      "execution_count": 11,
      "outputs": []
    },
    {
      "cell_type": "code",
      "metadata": {
        "id": "h5wPIYuiRuud",
        "colab_type": "code",
        "colab": {}
      },
      "source": [
        "face_rec_model = create_siamese_network(norm = True)"
      ],
      "execution_count": 12,
      "outputs": []
    },
    {
      "cell_type": "markdown",
      "metadata": {
        "id": "3hRdgbTeG9zq",
        "colab_type": "text"
      },
      "source": [
        "We have to define a dummy vector for passing to the model as the true labels vector."
      ]
    },
    {
      "cell_type": "markdown",
      "metadata": {
        "id": "I3czm4hTHJ68",
        "colab_type": "text"
      },
      "source": [
        "Initially, the model weights would be randomly initiailised and hence most of the samples wouldn't be easy for it. Let's warm up the network by training it on a 500 triplets for 10 epochs."
      ]
    },
    {
      "cell_type": "code",
      "metadata": {
        "id": "06xYSK7WG3Yn",
        "colab_type": "code",
        "colab": {
          "base_uri": "https://localhost:8080/",
          "height": 544
        },
        "outputId": "42f0fdbc-7879-4b9a-ac4c-b398389ac8aa"
      },
      "source": [
        "anchor_semihard,positive_semihard,negative_semihard = create_samples(n_samples = 500, margin = 1, model_c = face_rec_model)\n",
        "y_dummy = np.empty((anchor_semihard.shape[0],1))\n",
        "face_rec_model.fit([anchor_semihard, positive_semihard, negative_semihard], y_dummy, batch_size = 50, epochs = 10, callbacks=[usualCallback])"
      ],
      "execution_count": 13,
      "outputs": [
        {
          "output_type": "stream",
          "text": [
            "Status - 50 samples in 50 runs. 0 duplicates until now.\n",
            "Status - 100 samples in 100 runs. 0 duplicates until now.\n",
            "Status - 150 samples in 150 runs. 0 duplicates until now.\n",
            "Status - 200 samples in 200 runs. 0 duplicates until now.\n",
            "Status - 250 samples in 250 runs. 0 duplicates until now.\n",
            "Status - 300 samples in 300 runs. 0 duplicates until now.\n",
            "Status - 350 samples in 350 runs. 0 duplicates until now.\n",
            "Status - 400 samples in 400 runs. 0 duplicates until now.\n",
            "Status - 450 samples in 450 runs. 1 duplicates until now.\n",
            "Status - 500 samples in 500 runs. 1 duplicates until now.\n",
            "Epoch 1/10\n",
            "500/500 [==============================] - 21s 41ms/step - loss: 39.9474\n",
            "Epoch 2/10\n",
            "500/500 [==============================] - 16s 32ms/step - loss: 21.2148\n",
            "Epoch 3/10\n",
            "500/500 [==============================] - 16s 32ms/step - loss: 12.1085\n",
            "Epoch 4/10\n",
            "500/500 [==============================] - 16s 32ms/step - loss: 6.6616\n",
            "Epoch 5/10\n",
            "500/500 [==============================] - 16s 32ms/step - loss: 3.6215\n",
            "Epoch 6/10\n",
            "500/500 [==============================] - 16s 32ms/step - loss: 1.8574\n",
            "Epoch 7/10\n",
            "500/500 [==============================] - 16s 32ms/step - loss: 1.1093\n",
            "Epoch 8/10\n",
            "500/500 [==============================] - 16s 32ms/step - loss: 0.5580\n",
            "Epoch 9/10\n",
            "500/500 [==============================] - 16s 32ms/step - loss: 0.3341\n",
            "Epoch 10/10\n",
            "500/500 [==============================] - 16s 32ms/step - loss: 0.2030\n"
          ],
          "name": "stdout"
        },
        {
          "output_type": "execute_result",
          "data": {
            "text/plain": [
              "<keras.callbacks.callbacks.History at 0x7f1ea068bda0>"
            ]
          },
          "metadata": {
            "tags": []
          },
          "execution_count": 13
        }
      ]
    },
    {
      "cell_type": "markdown",
      "metadata": {
        "id": "t6MHX0VhHiBO",
        "colab_type": "text"
      },
      "source": [
        "Now let's mine for hard and semi hard triplets and then train the network for longer."
      ]
    },
    {
      "cell_type": "code",
      "metadata": {
        "id": "Wh28SKyhHplP",
        "colab_type": "code",
        "colab": {
          "base_uri": "https://localhost:8080/",
          "height": 1000
        },
        "outputId": "d8a593ee-f03f-4e33-9b7b-832569bb8e58"
      },
      "source": [
        "anchor_semihard,positive_semihard,negative_semihard = create_samples(n_samples = 2000, margin = 1, model_c = face_rec_model)\n",
        "y_dummy = np.empty((anchor_semihard.shape[0],1))\n",
        "face_rec_model.fit([anchor_semihard, positive_semihard, negative_semihard], y_dummy, batch_size = 128, epochs = 20, callbacks=[usualCallback])"
      ],
      "execution_count": 14,
      "outputs": [
        {
          "output_type": "stream",
          "text": [
            "Status - 50 samples in 139 runs. 0 duplicates until now.\n",
            "Status - 100 samples in 295 runs. 0 duplicates until now.\n",
            "Status - 150 samples in 491 runs. 3 duplicates until now.\n",
            "Status - 200 samples in 654 runs. 6 duplicates until now.\n",
            "Status - 250 samples in 808 runs. 7 duplicates until now.\n",
            "Status - 300 samples in 976 runs. 9 duplicates until now.\n",
            "Status - 350 samples in 1139 runs. 13 duplicates until now.\n",
            "Status - 400 samples in 1303 runs. 17 duplicates until now.\n",
            "Status - 450 samples in 1467 runs. 19 duplicates until now.\n",
            "Status - 500 samples in 1608 runs. 23 duplicates until now.\n",
            "Status - 550 samples in 1756 runs. 23 duplicates until now.\n",
            "Status - 600 samples in 1894 runs. 29 duplicates until now.\n",
            "Status - 650 samples in 2061 runs. 32 duplicates until now.\n",
            "Status - 700 samples in 2225 runs. 34 duplicates until now.\n",
            "Status - 750 samples in 2374 runs. 36 duplicates until now.\n",
            "Status - 800 samples in 2537 runs. 44 duplicates until now.\n",
            "Status - 850 samples in 2692 runs. 49 duplicates until now.\n",
            "Status - 900 samples in 2833 runs. 59 duplicates until now.\n",
            "Status - 950 samples in 2994 runs. 63 duplicates until now.\n",
            "Status - 1000 samples in 3172 runs. 70 duplicates until now.\n",
            "Status - 1050 samples in 3327 runs. 72 duplicates until now.\n",
            "Status - 1100 samples in 3494 runs. 79 duplicates until now.\n",
            "Status - 1150 samples in 3673 runs. 86 duplicates until now.\n",
            "Status - 1200 samples in 3828 runs. 92 duplicates until now.\n",
            "Status - 1250 samples in 3998 runs. 100 duplicates until now.\n",
            "Status - 1300 samples in 4151 runs. 107 duplicates until now.\n",
            "Status - 1350 samples in 4317 runs. 126 duplicates until now.\n",
            "Status - 1400 samples in 4467 runs. 134 duplicates until now.\n",
            "Status - 1450 samples in 4620 runs. 145 duplicates until now.\n",
            "Status - 1500 samples in 4776 runs. 155 duplicates until now.\n",
            "Status - 1550 samples in 4950 runs. 172 duplicates until now.\n",
            "Status - 1600 samples in 5118 runs. 185 duplicates until now.\n",
            "Status - 1650 samples in 5281 runs. 194 duplicates until now.\n",
            "Status - 1700 samples in 5450 runs. 207 duplicates until now.\n",
            "Status - 1750 samples in 5594 runs. 218 duplicates until now.\n",
            "Status - 1800 samples in 5759 runs. 231 duplicates until now.\n",
            "Status - 1850 samples in 5924 runs. 245 duplicates until now.\n",
            "Status - 1900 samples in 6078 runs. 252 duplicates until now.\n",
            "Status - 1950 samples in 6259 runs. 267 duplicates until now.\n",
            "Status - 2000 samples in 6428 runs. 281 duplicates until now.\n",
            "Epoch 1/20\n",
            "2000/2000 [==============================] - 81s 40ms/step - loss: 6.0973\n",
            "Epoch 2/20\n",
            "2000/2000 [==============================] - 58s 29ms/step - loss: 0.0861\n",
            "Epoch 3/20\n",
            "2000/2000 [==============================] - 58s 29ms/step - loss: 0.0186\n",
            "Epoch 4/20\n",
            "2000/2000 [==============================] - 58s 29ms/step - loss: 0.0028\n",
            "Epoch 5/20\n",
            "2000/2000 [==============================] - 58s 29ms/step - loss: 0.0000e+00\n",
            "Epoch 6/20\n",
            "2000/2000 [==============================] - 57s 29ms/step - loss: 0.0000e+00\n",
            "Epoch 7/20\n",
            "2000/2000 [==============================] - 58s 29ms/step - loss: 0.0000e+00\n",
            "Epoch 8/20\n",
            "2000/2000 [==============================] - 58s 29ms/step - loss: 0.0000e+00\n",
            "Epoch 9/20\n",
            "2000/2000 [==============================] - 58s 29ms/step - loss: 0.0000e+00\n",
            "Epoch 10/20\n",
            "2000/2000 [==============================] - 58s 29ms/step - loss: 0.0000e+00\n",
            "Epoch 11/20\n",
            "2000/2000 [==============================] - 58s 29ms/step - loss: 0.0000e+00\n",
            "Epoch 12/20\n",
            "2000/2000 [==============================] - 58s 29ms/step - loss: 0.0000e+00\n",
            "Epoch 13/20\n",
            "2000/2000 [==============================] - 57s 29ms/step - loss: 0.0000e+00\n",
            "Epoch 14/20\n",
            "2000/2000 [==============================] - 58s 29ms/step - loss: 0.0000e+00\n",
            "Epoch 15/20\n",
            "2000/2000 [==============================] - 58s 29ms/step - loss: 0.0000e+00\n",
            "Epoch 16/20\n",
            "2000/2000 [==============================] - 58s 29ms/step - loss: 0.0000e+00\n",
            "Epoch 17/20\n",
            "2000/2000 [==============================] - 58s 29ms/step - loss: 0.0000e+00\n",
            "Epoch 18/20\n",
            "2000/2000 [==============================] - 58s 29ms/step - loss: 0.0000e+00\n",
            "Epoch 19/20\n",
            "2000/2000 [==============================] - 58s 29ms/step - loss: 0.0000e+00\n",
            "Epoch 20/20\n",
            "2000/2000 [==============================] - 58s 29ms/step - loss: 0.0000e+00\n"
          ],
          "name": "stdout"
        },
        {
          "output_type": "execute_result",
          "data": {
            "text/plain": [
              "<keras.callbacks.callbacks.History at 0x7f1ea06cf128>"
            ]
          },
          "metadata": {
            "tags": []
          },
          "execution_count": 14
        }
      ]
    },
    {
      "cell_type": "code",
      "metadata": {
        "id": "2X5xxJaXMOhS",
        "colab_type": "code",
        "colab": {
          "base_uri": "https://localhost:8080/",
          "height": 34
        },
        "outputId": "3cacbf0f-0ea3-4d63-bd63-64f285b29555"
      },
      "source": [
        "anchor_semihard,positive_semihard,negative_semihard = create_samples(n_samples = 500, margin = 1, model_c = face_rec_model)"
      ],
      "execution_count": 15,
      "outputs": [
        {
          "output_type": "stream",
          "text": [
            "Less than 1% of sampled triplets are hard or semihard. Stopping the sampling process!!\n"
          ],
          "name": "stdout"
        }
      ]
    },
    {
      "cell_type": "code",
      "metadata": {
        "id": "_z07sJPUtTY_",
        "colab_type": "code",
        "colab": {
          "base_uri": "https://localhost:8080/",
          "height": 533
        },
        "outputId": "279d41fd-22f2-4d5f-aa15-c7c0b5e7036a"
      },
      "source": [
        "from keras.utils.vis_utils import plot_model\n",
        "plot_model(base, to_file='model_plot.png', show_shapes=True, show_layer_names=True)"
      ],
      "execution_count": 19,
      "outputs": [
        {
          "output_type": "execute_result",
          "data": {
            "image/png": "[encoded data removed]",
            "text/plain": [
              "<IPython.core.display.Image object>"
            ]
          },
          "metadata": {
            "tags": []
          },
          "execution_count": 19
        }
      ]
    }
  ]
}